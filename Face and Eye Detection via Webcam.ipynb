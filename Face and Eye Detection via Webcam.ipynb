{
 "cells": [
  {
   "cell_type": "code",
   "execution_count": 1,
   "metadata": {},
   "outputs": [],
   "source": [
    "import cv2\n",
    "import numpy as np"
   ]
  },
  {
   "cell_type": "code",
   "execution_count": null,
   "metadata": {},
   "outputs": [],
   "source": [
    "#create multiple cascade\n",
    "faceCascade = cv2.CascadeClassifier('cascades/haarcascade_frontalface_default.xml')\n",
    "eyeCascade = cv2.CascadeClassifier('cascades/haarcascade_eye.xml')\n",
    "\n",
    "#video capture\n",
    "videoCap = cv2.VideoCapture(0)\n",
    "#set width\n",
    "videoCap.set(3, 640)\n",
    "#set height\n",
    "videoCap.set(4, 480)\n",
    "\n",
    "while True:\n",
    "    #capture frame by frame\n",
    "    ret, frame = videoCap.read()\n",
    "    frame = cv2.flip(frame, 1)\n",
    "    gray = cv2.cvtColor(frame, cv2.COLOR_BGR2GRAY)\n",
    "    \n",
    "    faces = faceCascade.detectMultiScale(\n",
    "        gray,\n",
    "        scaleFactor=1.3,\n",
    "        minNeighbors=5)\n",
    "    \n",
    "    #Draw a rectangle around the face\n",
    "    for (x, y, w, h) in faces:\n",
    "        cv2.rectangle(frame, (x,y), (x+w, y+h), (0, 255, 0), 2)\n",
    "        roi_gray = gray[y:y+h, x:x+w]\n",
    "        roi_color = frame[y:y+h, x:x+w]\n",
    "        \n",
    "        #label the face\n",
    "        cv2.putText(frame, 'Face', (x+5, y-5), cv2.FONT_HERSHEY_SIMPLEX, 1, (0, 255, 0), 1)\n",
    "        \n",
    "        eyes = eyeCascade.detectMultiScale(roi_gray)\n",
    "        \n",
    "        for (e_x, e_y, e_w, e_h) in eyes:\n",
    "            cv2.rectangle(roi_color, (e_x, e_y), (e_x+e_w, e_y+e_h), (255, 255, 255), 2)\n",
    "            \n",
    "            \n",
    "            #label the eyes\n",
    "            cv2.putText(frame, 'eyE', (x+5, y-5), cv2.FONT_HERSHEY_COMPLEX, 0.6, (255, 255, 255), 2, cv2.LINE_AA, True)\n",
    "        \n",
    "        #Display the result from the frame\n",
    "        cv2.imshow('LIVE', frame)\n",
    "        \n",
    "        key = cv2.waitKey(30) & 0xff\n",
    "        if (key==27): #press Esc to exit\n",
    "            break\n",
    "\n",
    "print(\"\\n Exiting...........\")\n",
    "videoCap.release()\n",
    "cv2.destroyAllWindows()"
   ]
  },
  {
   "cell_type": "code",
   "execution_count": null,
   "metadata": {},
   "outputs": [],
   "source": []
  }
 ],
 "metadata": {
  "kernelspec": {
   "display_name": "Python 3",
   "language": "python",
   "name": "python3"
  },
  "language_info": {
   "codemirror_mode": {
    "name": "ipython",
    "version": 3
   },
   "file_extension": ".py",
   "mimetype": "text/x-python",
   "name": "python",
   "nbconvert_exporter": "python",
   "pygments_lexer": "ipython3",
   "version": "3.8.6"
  }
 },
 "nbformat": 4,
 "nbformat_minor": 4
}
